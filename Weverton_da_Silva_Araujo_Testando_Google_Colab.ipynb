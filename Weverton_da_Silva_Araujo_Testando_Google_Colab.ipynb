{
  "nbformat": 4,
  "nbformat_minor": 0,
  "metadata": {
    "colab": {
      "name": "Weverton da Silva Araujo - Testando Google Colab.ipynb",
      "provenance": [],
      "include_colab_link": true
    },
    "kernelspec": {
      "name": "python3",
      "display_name": "Python 3"
    }
  },
  "cells": [
    {
      "cell_type": "markdown",
      "metadata": {
        "id": "view-in-github",
        "colab_type": "text"
      },
      "source": [
        "<a href=\"https://colab.research.google.com/github/weverton-araujo/Algoritmos_2021.1/blob/main/Weverton_da_Silva_Araujo_Testando_Google_Colab.ipynb\" target=\"_parent\"><img src=\"https://colab.research.google.com/assets/colab-badge.svg\" alt=\"Open In Colab\"/></a>"
      ]
    },
    {
      "cell_type": "markdown",
      "metadata": {
        "id": "i5kFZCrGz3dX"
      },
      "source": [
        "<p align=\"center\"> <b>\n",
        "INSTITUTO FEDERAL DO RIO GRANDE DO NORTE - CAMPUS PARNAMIRIM <br>\n",
        "CURSO TÉCNICO SUBSEQUENTE EM REDE DE COMPUTADORES <br>\n",
        "Disciplina: Algoritmos <br>\n",
        "Professor: Luís Bruno P. Nascimento <br>"
      ]
    },
    {
      "cell_type": "markdown",
      "metadata": {
        "id": "8uQ9GK2ez2OY"
      },
      "source": [
        "1 - Escreva um programa que solicite um número e imprima seu dobro."
      ]
    },
    {
      "cell_type": "code",
      "metadata": {
        "id": "1oaoP3Vr3hPn",
        "colab": {
          "base_uri": "https://localhost:8080/"
        },
        "outputId": "8f30fadc-cf25-4b35-e529-022918cdd8d3"
      },
      "source": [
        "# Escreva seu código aqui\n",
        "num = int(input('Informe um número: '))\n",
        "\n",
        "dobro = num + num\n",
        "\n",
        "print(f'O dobro de {num} é {dobro}')"
      ],
      "execution_count": null,
      "outputs": [
        {
          "output_type": "stream",
          "text": [
            "Informe um número: 30\n",
            "O dobro de 30 é 60\n"
          ],
          "name": "stdout"
        }
      ]
    },
    {
      "cell_type": "markdown",
      "metadata": {
        "id": "iAltZM3t3iwn"
      },
      "source": [
        "2 - Utilizando a estrutura de repetição FOR, faça um programa que imprima seu nome 10 vezes."
      ]
    },
    {
      "cell_type": "code",
      "metadata": {
        "id": "yYBWLyUh3q3P",
        "colab": {
          "base_uri": "https://localhost:8080/"
        },
        "outputId": "75f1659a-5805-4a14-a270-16381e2524c2"
      },
      "source": [
        "# Escreva seu código aqui\n",
        "nome = input('Digite o seu nome: ')\n",
        "\n",
        "for n in range(10):\n",
        "  print(f'{n} - {nome}')\n",
        "\n"
      ],
      "execution_count": null,
      "outputs": [
        {
          "output_type": "stream",
          "text": [
            "digite o seu nome: Maria\n",
            "0 - Maria\n",
            "1 - Maria\n",
            "2 - Maria\n",
            "3 - Maria\n",
            "4 - Maria\n",
            "5 - Maria\n",
            "6 - Maria\n",
            "7 - Maria\n",
            "8 - Maria\n",
            "9 - Maria\n"
          ],
          "name": "stdout"
        }
      ]
    }
  ]
}